{
  "nbformat": 4,
  "nbformat_minor": 0,
  "metadata": {
    "colab": {
      "name": "TASK2.ipynb",
      "provenance": []
    },
    "kernelspec": {
      "name": "python3",
      "display_name": "Python 3"
    },
    "language_info": {
      "name": "python"
    }
  },
  "cells": [
    {
      "cell_type": "code",
      "execution_count": 1,
      "metadata": {
        "id": "tBI58dQyYx9B"
      },
      "outputs": [],
      "source": [
        "import numpy as np \n",
        "import matplotlib.pyplot as plt\n",
        "import seaborn as sns; sns.set()\n",
        "import jax\n",
        "import jax.numpy as jnp"
      ]
    },
    {
      "cell_type": "code",
      "source": [
        "d = 100\n",
        "from jax import random\n",
        "key = random.PRNGKey(1)\n",
        "key"
      ],
      "metadata": {
        "colab": {
          "base_uri": "https://localhost:8080/"
        },
        "id": "XCBSm0EXaMxE",
        "outputId": "774d6476-dcc3-4a4c-ad9c-13d8d42fb219"
      },
      "execution_count": 2,
      "outputs": [
        {
          "output_type": "stream",
          "name": "stderr",
          "text": [
            "WARNING:absl:No GPU/TPU found, falling back to CPU. (Set TF_CPP_MIN_LOG_LEVEL=0 and rerun for more info.)\n"
          ]
        },
        {
          "output_type": "execute_result",
          "data": {
            "text/plain": [
              "DeviceArray([0, 1], dtype=uint32)"
            ]
          },
          "metadata": {},
          "execution_count": 2
        }
      ]
    },
    {
      "cell_type": "code",
      "source": [
        "A = jax.random.uniform(key, shape=(d,1), minval=0.0, maxval=1.0)"
      ],
      "metadata": {
        "id": "anagVEe3gqgr"
      },
      "execution_count": 3,
      "outputs": []
    },
    {
      "cell_type": "code",
      "source": [
        "A"
      ],
      "metadata": {
        "colab": {
          "base_uri": "https://localhost:8080/"
        },
        "id": "Nofe4BizfKYm",
        "outputId": "45c4c97c-787f-4693-f30d-9096749e8ab2"
      },
      "execution_count": 4,
      "outputs": [
        {
          "output_type": "execute_result",
          "data": {
            "text/plain": [
              "DeviceArray([[0.03350604],\n",
              "             [0.4228704 ],\n",
              "             [0.04554963],\n",
              "             [0.08980203],\n",
              "             [0.77278185],\n",
              "             [0.7340044 ],\n",
              "             [0.19629157],\n",
              "             [0.9632051 ],\n",
              "             [0.40125763],\n",
              "             [0.6180724 ],\n",
              "             [0.2933644 ],\n",
              "             [0.6852062 ],\n",
              "             [0.14773858],\n",
              "             [0.3251965 ],\n",
              "             [0.16776049],\n",
              "             [0.76028013],\n",
              "             [0.2798661 ],\n",
              "             [0.02772212],\n",
              "             [0.8074101 ],\n",
              "             [0.19432187],\n",
              "             [0.50142145],\n",
              "             [0.16578972],\n",
              "             [0.75377095],\n",
              "             [0.40523124],\n",
              "             [0.2838993 ],\n",
              "             [0.7595489 ],\n",
              "             [0.95365417],\n",
              "             [0.8472152 ],\n",
              "             [0.67348075],\n",
              "             [0.9655738 ],\n",
              "             [0.05605936],\n",
              "             [0.45373845],\n",
              "             [0.3185221 ],\n",
              "             [0.8948369 ],\n",
              "             [0.24599516],\n",
              "             [0.93407154],\n",
              "             [0.12670207],\n",
              "             [0.8332207 ],\n",
              "             [0.26050556],\n",
              "             [0.37154067],\n",
              "             [0.53099203],\n",
              "             [0.42348695],\n",
              "             [0.74056745],\n",
              "             [0.78682566],\n",
              "             [0.7494786 ],\n",
              "             [0.55619097],\n",
              "             [0.44813085],\n",
              "             [0.08646929],\n",
              "             [0.8228363 ],\n",
              "             [0.3581257 ],\n",
              "             [0.17399836],\n",
              "             [0.44473398],\n",
              "             [0.35575032],\n",
              "             [0.5485792 ],\n",
              "             [0.3736143 ],\n",
              "             [0.00550854],\n",
              "             [0.9980773 ],\n",
              "             [0.6450285 ],\n",
              "             [0.74942696],\n",
              "             [0.29875767],\n",
              "             [0.07997644],\n",
              "             [0.2502699 ],\n",
              "             [0.83196425],\n",
              "             [0.22165251],\n",
              "             [0.35927665],\n",
              "             [0.13631415],\n",
              "             [0.5430261 ],\n",
              "             [0.67917526],\n",
              "             [0.5517504 ],\n",
              "             [0.8463181 ],\n",
              "             [0.47032797],\n",
              "             [0.82733667],\n",
              "             [0.63545454],\n",
              "             [0.809881  ],\n",
              "             [0.94881785],\n",
              "             [0.32218933],\n",
              "             [0.810032  ],\n",
              "             [0.25985205],\n",
              "             [0.4650023 ],\n",
              "             [0.46515298],\n",
              "             [0.576831  ],\n",
              "             [0.7735046 ],\n",
              "             [0.59671664],\n",
              "             [0.42732763],\n",
              "             [0.04600012],\n",
              "             [0.1547705 ],\n",
              "             [0.7829263 ],\n",
              "             [0.3737223 ],\n",
              "             [0.18759143],\n",
              "             [0.43506503],\n",
              "             [0.2783636 ],\n",
              "             [0.7792357 ],\n",
              "             [0.7366252 ],\n",
              "             [0.6995915 ],\n",
              "             [0.9133071 ],\n",
              "             [0.21815944],\n",
              "             [0.00759876],\n",
              "             [0.07044399],\n",
              "             [0.95213497],\n",
              "             [0.43941998]], dtype=float32)"
            ]
          },
          "metadata": {},
          "execution_count": 4
        }
      ]
    },
    {
      "cell_type": "code",
      "source": [
        "I = jnp.identity(d)"
      ],
      "metadata": {
        "id": "z4ZqOjR5frJU"
      },
      "execution_count": 5,
      "outputs": []
    },
    {
      "cell_type": "code",
      "source": [
        "K_0 = I*(jax.random.uniform(key))"
      ],
      "metadata": {
        "id": "5i6LF77mgBLA"
      },
      "execution_count": 8,
      "outputs": []
    },
    {
      "cell_type": "code",
      "source": [
        "np.linalg.eigvals(K_0)"
      ],
      "metadata": {
        "colab": {
          "base_uri": "https://localhost:8080/"
        },
        "id": "mC-yz6RGiZ0P",
        "outputId": "07ba77c9-bf18-43be-ef9b-b085d3503db4"
      },
      "execution_count": 9,
      "outputs": [
        {
          "output_type": "execute_result",
          "data": {
            "text/plain": [
              "array([0.11815023, 0.11815023, 0.11815023, 0.11815023, 0.11815023,\n",
              "       0.11815023, 0.11815023, 0.11815023, 0.11815023, 0.11815023,\n",
              "       0.11815023, 0.11815023, 0.11815023, 0.11815023, 0.11815023,\n",
              "       0.11815023, 0.11815023, 0.11815023, 0.11815023, 0.11815023,\n",
              "       0.11815023, 0.11815023, 0.11815023, 0.11815023, 0.11815023,\n",
              "       0.11815023, 0.11815023, 0.11815023, 0.11815023, 0.11815023,\n",
              "       0.11815023, 0.11815023, 0.11815023, 0.11815023, 0.11815023,\n",
              "       0.11815023, 0.11815023, 0.11815023, 0.11815023, 0.11815023,\n",
              "       0.11815023, 0.11815023, 0.11815023, 0.11815023, 0.11815023,\n",
              "       0.11815023, 0.11815023, 0.11815023, 0.11815023, 0.11815023,\n",
              "       0.11815023, 0.11815023, 0.11815023, 0.11815023, 0.11815023,\n",
              "       0.11815023, 0.11815023, 0.11815023, 0.11815023, 0.11815023,\n",
              "       0.11815023, 0.11815023, 0.11815023, 0.11815023, 0.11815023,\n",
              "       0.11815023, 0.11815023, 0.11815023, 0.11815023, 0.11815023,\n",
              "       0.11815023, 0.11815023, 0.11815023, 0.11815023, 0.11815023,\n",
              "       0.11815023, 0.11815023, 0.11815023, 0.11815023, 0.11815023,\n",
              "       0.11815023, 0.11815023, 0.11815023, 0.11815023, 0.11815023,\n",
              "       0.11815023, 0.11815023, 0.11815023, 0.11815023, 0.11815023,\n",
              "       0.11815023, 0.11815023, 0.11815023, 0.11815023, 0.11815023,\n",
              "       0.11815023, 0.11815023, 0.11815023, 0.11815023, 0.11815023],\n",
              "      dtype=float32)"
            ]
          },
          "metadata": {},
          "execution_count": 9
        }
      ]
    },
    {
      "cell_type": "code",
      "source": [
        "# Define epsilon.\n",
        "epsilon = 0.0001"
      ],
      "metadata": {
        "id": "FZ6I2O4Sibq-"
      },
      "execution_count": 10,
      "outputs": []
    },
    {
      "cell_type": "code",
      "source": [
        "# Add small pertturbation. \n",
        "K = K_0 + epsilon*jnp.identity(d)\n"
      ],
      "metadata": {
        "id": "b7qkkuQkij2J"
      },
      "execution_count": 11,
      "outputs": []
    },
    {
      "cell_type": "code",
      "source": [
        "K"
      ],
      "metadata": {
        "colab": {
          "base_uri": "https://localhost:8080/"
        },
        "id": "Ef9oTFhZv96M",
        "outputId": "28c1275f-ee45-4528-f12c-51ff65421f35"
      },
      "execution_count": 12,
      "outputs": [
        {
          "output_type": "execute_result",
          "data": {
            "text/plain": [
              "DeviceArray([[0.11825024, 0.        , 0.        , ..., 0.        ,\n",
              "              0.        , 0.        ],\n",
              "             [0.        , 0.11825024, 0.        , ..., 0.        ,\n",
              "              0.        , 0.        ],\n",
              "             [0.        , 0.        , 0.11825024, ..., 0.        ,\n",
              "              0.        , 0.        ],\n",
              "             ...,\n",
              "             [0.        , 0.        , 0.        , ..., 0.11825024,\n",
              "              0.        , 0.        ],\n",
              "             [0.        , 0.        , 0.        , ..., 0.        ,\n",
              "              0.11825024, 0.        ],\n",
              "             [0.        , 0.        , 0.        , ..., 0.        ,\n",
              "              0.        , 0.11825024]], dtype=float32)"
            ]
          },
          "metadata": {},
          "execution_count": 12
        }
      ]
    },
    {
      "cell_type": "code",
      "source": [
        "L = jnp.linalg.cholesky(K)\n",
        "L"
      ],
      "metadata": {
        "colab": {
          "base_uri": "https://localhost:8080/"
        },
        "id": "rAM4XxdTinGz",
        "outputId": "79d704f1-38fd-4e67-8275-1db5afb04718"
      },
      "execution_count": 13,
      "outputs": [
        {
          "output_type": "execute_result",
          "data": {
            "text/plain": [
              "DeviceArray([[0.34387532, 0.        , 0.        , ..., 0.        ,\n",
              "              0.        , 0.        ],\n",
              "             [0.        , 0.34387532, 0.        , ..., 0.        ,\n",
              "              0.        , 0.        ],\n",
              "             [0.        , 0.        , 0.34387532, ..., 0.        ,\n",
              "              0.        , 0.        ],\n",
              "             ...,\n",
              "             [0.        , 0.        , 0.        , ..., 0.34387532,\n",
              "              0.        , 0.        ],\n",
              "             [0.        , 0.        , 0.        , ..., 0.        ,\n",
              "              0.34387532, 0.        ],\n",
              "             [0.        , 0.        , 0.        , ..., 0.        ,\n",
              "              0.        , 0.34387532]], dtype=float32)"
            ]
          },
          "metadata": {},
          "execution_count": 13
        }
      ]
    },
    {
      "cell_type": "code",
      "source": [
        "jnp.dot(L, np.transpose(L))"
      ],
      "metadata": {
        "colab": {
          "base_uri": "https://localhost:8080/"
        },
        "id": "f0H_AvMqipy4",
        "outputId": "ea391bd3-c8a5-4e1a-ff22-05a92c8dbec8"
      },
      "execution_count": 14,
      "outputs": [
        {
          "output_type": "execute_result",
          "data": {
            "text/plain": [
              "DeviceArray([[0.11825024, 0.        , 0.        , ..., 0.        ,\n",
              "              0.        , 0.        ],\n",
              "             [0.        , 0.11825024, 0.        , ..., 0.        ,\n",
              "              0.        , 0.        ],\n",
              "             [0.        , 0.        , 0.11825024, ..., 0.        ,\n",
              "              0.        , 0.        ],\n",
              "             ...,\n",
              "             [0.        , 0.        , 0.        , ..., 0.11825024,\n",
              "              0.        , 0.        ],\n",
              "             [0.        , 0.        , 0.        , ..., 0.        ,\n",
              "              0.11825024, 0.        ],\n",
              "             [0.        , 0.        , 0.        , ..., 0.        ,\n",
              "              0.        , 0.11825024]], dtype=float32)"
            ]
          },
          "metadata": {},
          "execution_count": 14
        }
      ]
    },
    {
      "cell_type": "code",
      "source": [
        "n = 1000\n",
        "u = np.random.normal(loc=0, scale=1, size=d*n).reshape(d, n)\n"
      ],
      "metadata": {
        "id": "sPKFbc86i30C"
      },
      "execution_count": 19,
      "outputs": []
    },
    {
      "cell_type": "code",
      "source": [
        "u.shape"
      ],
      "metadata": {
        "colab": {
          "base_uri": "https://localhost:8080/"
        },
        "id": "Vtux6IM0uxnJ",
        "outputId": "2e610406-3cbf-4f4f-c2f3-c527973215bb"
      },
      "execution_count": 20,
      "outputs": [
        {
          "output_type": "execute_result",
          "data": {
            "text/plain": [
              "(100, 1000)"
            ]
          },
          "metadata": {},
          "execution_count": 20
        }
      ]
    },
    {
      "cell_type": "code",
      "source": [
        "x = A + jnp.dot(L, u)"
      ],
      "metadata": {
        "id": "cCfdFsQSitqX"
      },
      "execution_count": 21,
      "outputs": []
    },
    {
      "cell_type": "code",
      "source": [
        "sns.jointplot(x=x[0], y=x[1], kind=\"kde\", space=0);"
      ],
      "metadata": {
        "colab": {
          "base_uri": "https://localhost:8080/",
          "height": 441
        },
        "id": "sslzDXqgixp2",
        "outputId": "6d20996d-1dbb-41e4-fe9f-95d4ea76ec7b"
      },
      "execution_count": 22,
      "outputs": [
        {
          "output_type": "display_data",
          "data": {
            "text/plain": [
              "<Figure size 432x432 with 3 Axes>"
            ],
            "image/png": "[encoded data removed]"
          },
          "metadata": {
            "needs_background": "light"
          }
        }
      ]
    }
  ]
}