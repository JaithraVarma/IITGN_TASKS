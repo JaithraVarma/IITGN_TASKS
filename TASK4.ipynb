{
  "cells": [
    {
      "cell_type": "markdown",
      "id": "411b1c7b",
      "metadata": {
        "id": "411b1c7b"
      },
      "source": [
        "# Bayesian Linear Regression\n",
        "\n",
        "In this notebook we demonstrate the use of the random walk Rosenbluth-Metropolis-Hasting algorithm on a simple linear regression."
      ]
    },
    {
      "cell_type": "code",
      "execution_count": 3,
      "id": "5dd85020",
      "metadata": {
        "id": "5dd85020"
      },
      "outputs": [],
      "source": [
        "import jax\n",
        "import jax.numpy as jnp\n",
        "import jax.random as random\n",
        "import matplotlib.pyplot as plt\n",
        "from sklearn.datasets import make_biclusters\n",
        "import numpy as np\n",
        "import blackjax"
      ]
    },
    {
      "cell_type": "code",
      "source": [
        "!pip install blackjax"
      ],
      "metadata": {
        "colab": {
          "base_uri": "https://localhost:8080/"
        },
        "id": "v21xyoKLYGcS",
        "outputId": "c7b87b0d-88cc-493c-f864-cd138b625067"
      },
      "id": "v21xyoKLYGcS",
      "execution_count": 2,
      "outputs": [
        {
          "output_type": "stream",
          "name": "stdout",
          "text": [
            "Collecting blackjax\n",
            "  Downloading blackjax-0.4.0-py3-none-any.whl (74 kB)\n",
            "\u001b[?25l\r\u001b[K     |████▍                           | 10 kB 15.0 MB/s eta 0:00:01\r\u001b[K     |████████▉                       | 20 kB 19.1 MB/s eta 0:00:01\r\u001b[K     |█████████████▎                  | 30 kB 23.6 MB/s eta 0:00:01\r\u001b[K     |█████████████████▋              | 40 kB 26.6 MB/s eta 0:00:01\r\u001b[K     |██████████████████████          | 51 kB 22.7 MB/s eta 0:00:01\r\u001b[K     |██████████████████████████▌     | 61 kB 22.7 MB/s eta 0:00:01\r\u001b[K     |██████████████████████████████▉ | 71 kB 24.3 MB/s eta 0:00:01\r\u001b[K     |████████████████████████████████| 74 kB 1.5 MB/s \n",
            "\u001b[?25hInstalling collected packages: blackjax\n",
            "Successfully installed blackjax-0.4.0\n"
          ]
        }
      ]
    },
    {
      "cell_type": "markdown",
      "id": "8d4de9e9",
      "metadata": {
        "id": "8d4de9e9"
      },
      "source": [
        "## The data"
      ]
    },
    {
      "cell_type": "code",
      "source": [
        "def compute_function_labels(slope: float, intercept: float, noise_std_dev: float, data: jnp.ndarray) -> jnp.ndarray:\n",
        "    \"\"\"\n",
        "    Compute target values given function parameters and data.\n",
        "    \n",
        "    Args:\n",
        "        slope: slope of the function (theta_1)\n",
        "        intercept: intercept of the function (theta_0)\n",
        "        data: input feature values (x)\n",
        "        noise_std_dev: standard deviation of noise distribution (sigma)\n",
        "        \n",
        "    Returns:\n",
        "        target values, either true or corrupted with noise\n",
        "    \"\"\"\n",
        "    n_samples = len(data)\n",
        "    if noise_std_dev == 0: # Real function\n",
        "        return slope * data + intercept\n",
        "    else: # Noise corrupted\n",
        "        seed=4\n",
        "        key = jax.random.PRNGKey(seed)\n",
        "        return slope * data + intercept + np.random.normal(0, noise_std_dev, n_samples) #used nump here"
      ],
      "metadata": {
        "id": "NzFfctPMOGG7"
      },
      "id": "NzFfctPMOGG7",
      "execution_count": 4,
      "outputs": []
    },
    {
      "cell_type": "code",
      "source": [
        "# Set random seed to ensure reproducibility\n",
        "seed = 4\n",
        "from jax import random\n",
        "key = random.PRNGKey(0)\n",
        "\n",
        "\n",
        "# Generate true values and noise corrupted targets\n",
        "n_datapoints = 100\n",
        "intercept = -0.7\n",
        "slope = 0.9\n",
        "noise_std_dev = 0.5\n",
        "noise_var = noise_std_dev**2\n",
        "lower_bound = -1.5\n",
        "upper_bound = 1.5\n",
        "\n",
        "# Generate dataset key, shape=(), dtype=<class 'numpy.float64'>, minval=0.0, maxval=1.0\n",
        "X = jax.random.uniform(key,shape = (n_datapoints,), minval = lower_bound, maxval = upper_bound)\n",
        "X = X.reshape(100,1)\n",
        "Y = compute_function_labels(slope, intercept, 0., X)\n",
        "noise_corrupted_labels = compute_function_labels(slope, intercept, noise_std_dev, np.squeeze(X))"
      ],
      "metadata": {
        "id": "r8mV7smrOHHq",
        "colab": {
          "base_uri": "https://localhost:8080/"
        },
        "outputId": "cd468661-8cc8-47d6-e968-34b6c8f2e627"
      },
      "id": "r8mV7smrOHHq",
      "execution_count": 5,
      "outputs": [
        {
          "output_type": "stream",
          "name": "stderr",
          "text": [
            "WARNING:absl:No GPU/TPU found, falling back to CPU. (Set TF_CPP_MIN_LOG_LEVEL=0 and rerun for more info.)\n"
          ]
        }
      ]
    },
    {
      "cell_type": "code",
      "source": [
        "X.shape"
      ],
      "metadata": {
        "colab": {
          "base_uri": "https://localhost:8080/"
        },
        "id": "ZI-9le_EScBp",
        "outputId": "7afae43c-01b6-4f18-e75b-bbc8c3054f7c"
      },
      "id": "ZI-9le_EScBp",
      "execution_count": 6,
      "outputs": [
        {
          "output_type": "execute_result",
          "data": {
            "text/plain": [
              "(100, 1)"
            ]
          },
          "metadata": {},
          "execution_count": 6
        }
      ]
    },
    {
      "cell_type": "code",
      "source": [
        "plt.figure(figsize=(10,7))\n",
        "plt.plot(X, Y, color='r', label=\"True values\")\n",
        "plt.scatter(X, noise_corrupted_labels, label=\"Noise corrupted values\")\n",
        "plt.xlabel(\"Features\")\n",
        "plt.ylabel(\"Labels\")\n",
        "plt.title(\"Real function along with noisy targets\")\n",
        "plt.legend();"
      ],
      "metadata": {
        "colab": {
          "base_uri": "https://localhost:8080/",
          "height": 457
        },
        "id": "M40mvVWBPuL0",
        "outputId": "b36b75db-b208-4638-88bc-dcba213582df"
      },
      "id": "M40mvVWBPuL0",
      "execution_count": 7,
      "outputs": [
        {
          "output_type": "display_data",
          "data": {
            "text/plain": [
              "<Figure size 720x504 with 1 Axes>"
            ],
            "image/png": "[encoded data removed]"
          },
          "metadata": {
            "needs_background": "light"
          }
        }
      ]
    },
    {
      "cell_type": "markdown",
      "id": "8a11bbaa",
      "metadata": {
        "id": "8a11bbaa"
      },
      "source": [
        "## The model"
      ]
    },
    {
      "cell_type": "code",
      "execution_count": 8,
      "id": "f498cb13",
      "metadata": {
        "id": "f498cb13"
      },
      "outputs": [],
      "source": [
        "\n",
        "N,M = X.shape\n",
        "\n",
        "\n",
        "def lin(z):\n",
        "    return z\n",
        "\n",
        "\n",
        "def log_linear(z):\n",
        "\n",
        "    sigma = 0.5\n",
        "    mu = 0\n",
        "    return jnp.log(1 / jnp.sqrt(2 * jnp.pi * sigma**2)) - (1/(2 * sigma**2) * (Y-z)**2)\n",
        "\n",
        "\n",
        "def logprob_fn(w, alpha=1.0):\n",
        "    \"\"\"The log-probability density function of the posterior distribution of the model.\"\"\"\n",
        "    an = X @ w\n",
        "    log_likelihood_term = log_linear(an)\n",
        "    prior_term = alpha * w @ w / 2\n",
        "\n",
        "    return -prior_term + log_likelihood_term.sum()"
      ]
    },
    {
      "cell_type": "markdown",
      "id": "3456f9ae",
      "metadata": {
        "id": "3456f9ae"
      },
      "source": [
        "## Posterior sampling\n",
        "\n",
        "We use `blackjax`'s Random Walk RMH kernel to sample from the posterior distribution."
      ]
    },
    {
      "cell_type": "code",
      "execution_count": 11,
      "id": "e98bff54",
      "metadata": {
        "id": "e98bff54"
      },
      "outputs": [],
      "source": [
        "rng_key = random.PRNGKey(314)\n",
        "\n",
        "w0 = random.multivariate_normal(rng_key, 0.1 + jnp.zeros(M), jnp.eye(M))\n",
        "\n",
        "rmh = blackjax.rmh(logprob_fn, sigma=jnp.ones(M) * 0.7)\n",
        "initial_state = rmh.init(w0)"
      ]
    },
    {
      "cell_type": "code",
      "source": [
        "w0\n",
        "logprob_fn"
      ],
      "metadata": {
        "colab": {
          "base_uri": "https://localhost:8080/"
        },
        "id": "s7-PfCLjCMfP",
        "outputId": "c478347c-761b-44a0-abf1-9779b2690c1f"
      },
      "id": "s7-PfCLjCMfP",
      "execution_count": 12,
      "outputs": [
        {
          "output_type": "execute_result",
          "data": {
            "text/plain": [
              "<function __main__.logprob_fn>"
            ]
          },
          "metadata": {},
          "execution_count": 12
        }
      ]
    },
    {
      "cell_type": "markdown",
      "id": "b7d6c95d",
      "metadata": {
        "id": "b7d6c95d"
      },
      "source": [
        "Since `blackjax` does not provide an inference loop we need to implement one ourselves:"
      ]
    },
    {
      "cell_type": "code",
      "execution_count": 13,
      "id": "147888ca",
      "metadata": {
        "id": "147888ca"
      },
      "outputs": [],
      "source": [
        "def inference_loop(rng_key, kernel, initial_state, num_samples):\n",
        "    @jax.jit\n",
        "    def one_step(state, rng_key):\n",
        "        state, _ = kernel(rng_key, state)\n",
        "        return state, state\n",
        "\n",
        "    keys = jax.random.split(rng_key, num_samples)\n",
        "    _, states = jax.lax.scan(one_step, initial_state, keys)\n",
        "\n",
        "    return states"
      ]
    },
    {
      "cell_type": "markdown",
      "id": "427bac07",
      "metadata": {
        "id": "427bac07"
      },
      "source": [
        "We can now run the inference:"
      ]
    },
    {
      "cell_type": "code",
      "execution_count": 14,
      "id": "e7465b52",
      "metadata": {
        "id": "e7465b52"
      },
      "outputs": [],
      "source": [
        "_, rng_key = random.split(rng_key)\n",
        "states = inference_loop(rng_key, rmh.step, initial_state, 5_000)"
      ]
    },
    {
      "cell_type": "markdown",
      "id": "550be73b",
      "metadata": {
        "id": "550be73b"
      },
      "source": [
        "And display the trace:"
      ]
    },
    {
      "cell_type": "code",
      "execution_count": 15,
      "id": "5edc2447",
      "metadata": {
        "colab": {
          "base_uri": "https://localhost:8080/",
          "height": 172
        },
        "id": "5edc2447",
        "outputId": "6deed5b4-75ca-4b07-8f20-f408cbfb79a4"
      },
      "outputs": [
        {
          "output_type": "display_data",
          "data": {
            "text/plain": [
              "<Figure size 864x144 with 2 Axes>"
            ],
            "image/png": "[encoded data removed]"
          },
          "metadata": {
            "needs_background": "light"
          }
        }
      ],
      "source": [
        "burnin = 300\n",
        "\n",
        "fig, ax = plt.subplots(1, 2, figsize=(12, 2))\n",
        "for i, axi in enumerate(ax):\n",
        "    axi.plot(states.position[:, i])\n",
        "    axi.set_title(f\"$w_{i}$\")\n",
        "    axi.axvline(x=burnin, c=\"tab:red\")\n",
        "plt.show()"
      ]
    },
    {
      "cell_type": "code",
      "execution_count": 16,
      "id": "865acf20",
      "metadata": {
        "id": "865acf20"
      },
      "outputs": [],
      "source": [
        "chains = states.position[burnin:, :]\n",
        "nsamp, _ = chains.shape"
      ]
    },
    {
      "cell_type": "code",
      "source": [
        "X.shape"
      ],
      "metadata": {
        "colab": {
          "base_uri": "https://localhost:8080/"
        },
        "id": "nuVUh4poVzpI",
        "outputId": "654a4b7c-2517-46db-cd2e-21268d1b098f"
      },
      "id": "nuVUh4poVzpI",
      "execution_count": 18,
      "outputs": [
        {
          "output_type": "execute_result",
          "data": {
            "text/plain": [
              "(100, 1)"
            ]
          },
          "metadata": {},
          "execution_count": 18
        }
      ]
    },
    {
      "cell_type": "code",
      "source": [
        "plt.figure(figsize=(10,7))\n",
        "plt.plot(X, Y, color='r', label=\"True values\")\n",
        "plt.scatter(X, noise_corrupted_labels, label=\"Noise corrupted values\")\n",
        "plt.xlabel(\"Features\")\n",
        "plt.ylabel(\"Labels\")\n",
        "plt.title(\"Real function along with noisy targets\")\n",
        "plt.legend();"
      ],
      "metadata": {
        "colab": {
          "base_uri": "https://localhost:8080/",
          "height": 457
        },
        "id": "OHxdxFOlQA_c",
        "outputId": "2aad86dc-a98d-4d2e-f2da-a5201736ab1c"
      },
      "id": "OHxdxFOlQA_c",
      "execution_count": 19,
      "outputs": [
        {
          "output_type": "display_data",
          "data": {
            "text/plain": [
              "<Figure size 720x504 with 1 Axes>"
            ],
            "image/png": "[encoded data removed]"
          },
          "metadata": {
            "needs_background": "light"
          }
        }
      ]
    },
    {
      "cell_type": "code",
      "execution_count": 21,
      "id": "d14b079d",
      "metadata": {
        "colab": {
          "base_uri": "https://localhost:8080/",
          "height": 294
        },
        "id": "d14b079d",
        "outputId": "b04d2b9e-f3e2-4932-9610-c8486d3c9797"
      },
      "outputs": [
        {
          "output_type": "display_data",
          "data": {
            "text/plain": [
              "<Figure size 432x288 with 1 Axes>"
            ],
            "image/png": "[encoded data removed]"
          },
          "metadata": {
            "needs_background": "light"
          }
        }
      ],
      "source": [
        "\n",
        "plt.scatter((*X.T*w0),Y)\n",
        "plt.scatter(X, noise_corrupted_labels, label=\"Noise corrupted values\")\n",
        "plt.xlabel(\"Features\")\n",
        "plt.ylabel(\"Labels\")\n",
        "plt.title(\"Real function along with noisy targets\")\n",
        "plt.legend();"
      ]
    }
  ],
  "metadata": {
    "kernelspec": {
      "display_name": "Python 3 (ipykernel)",
      "language": "python",
      "name": "python3"
    },
    "language_info": {
      "codemirror_mode": {
        "name": "ipython",
        "version": 3
      },
      "file_extension": ".py",
      "mimetype": "text/x-python",
      "name": "python",
      "nbconvert_exporter": "python",
      "pygments_lexer": "ipython3",
      "version": "3.9.7"
    },
    "colab": {
      "name": "TASK4.ipynb",
      "provenance": []
    }
  },
  "nbformat": 4,
  "nbformat_minor": 5
}