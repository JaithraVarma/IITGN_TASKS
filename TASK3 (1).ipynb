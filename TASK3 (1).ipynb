{
  "nbformat": 4,
  "nbformat_minor": 0,
  "metadata": {
    "colab": {
      "name": "TASK3.ipynb",
      "provenance": [],
      "collapsed_sections": []
    },
    "kernelspec": {
      "name": "python3",
      "display_name": "Python 3"
    },
    "language_info": {
      "name": "python"
    }
  },
  "cells": [
    {
      "cell_type": "markdown",
      "metadata": {
        "id": "view-in-github"
      },
      "source": [
        "<a href=\"https://colab.research.google.com/github/gordicaleksa/get-started-with-JAX/blob/main/Tutorial_3_JAX_Neural_Network_from_Scratch_Colab.ipynb\" target=\"_parent\"><img src=\"https://colab.research.google.com/assets/colab-badge.svg\" alt=\"Open In Colab\"/></a>"
      ]
    },
    {
      "cell_type": "markdown",
      "metadata": {
        "id": "XZuyP-M3KPUR"
      },
      "source": [
        "# Training 2 Hidden Layer NN on MNIST"
      ]
    },
    {
      "cell_type": "code",
      "metadata": {
        "id": "8-SzJ0NTKRP1"
      },
      "source": [
        "import jax.numpy as jnp\n",
        "from jax.scipy.special import logsumexp\n",
        "import jax\n",
        "from jax import jit, vmap, pmap, grad, value_and_grad\n",
        "import matplotlib.pyplot as plt\n",
        "from torchvision.datasets import MNIST\n",
        "from torch.utils.data import DataLoader"
      ],
      "execution_count": 44,
      "outputs": []
    },
    {
      "cell_type": "code",
      "source": [
        "!pip install partial"
      ],
      "metadata": {
        "colab": {
          "base_uri": "https://localhost:8080/"
        },
        "id": "sTCRWwJD-4QB",
        "outputId": "8d538e76-334c-45c2-f463-56d50e0646e4"
      },
      "execution_count": 45,
      "outputs": [
        {
          "output_type": "stream",
          "name": "stdout",
          "text": [
            "Requirement already satisfied: partial in /usr/local/lib/python3.7/dist-packages (1.0)\n"
          ]
        }
      ]
    },
    {
      "cell_type": "markdown",
      "source": [
        "JAX is NumPy on the CPU, GPU, and TPU, with great automatic differentiation for high-performance machine learning research."
      ],
      "metadata": {
        "id": "7g2ylvZ6z5ic"
      }
    },
    {
      "cell_type": "markdown",
      "source": [
        "**WEIGHTS INITIALIZTION:-**"
      ],
      "metadata": {
        "id": "f68Q8iOOzBWS"
      }
    },
    {
      "cell_type": "markdown",
      "source": [
        "jax.random.PRNGKey(seed) :- Creates a pseudo-random number generator (PRNG) key given an integer seed.\n",
        "\n",
        "jax.random.split(key, num) :- Splits a PRNG key into num new keys by adding a leading axis.\n",
        "\n",
        "jax.random.normal(key, shape=(), dtype=<class 'numpy.float64'>) :- Sample standard normal random values with given shape and float dtype.\n"
      ],
      "metadata": {
        "id": "jFbeyLR3z2vX"
      }
    },
    {
      "cell_type": "code",
      "metadata": {
        "colab": {
          "base_uri": "https://localhost:8080/"
        },
        "id": "G4NrxSVjKt8f",
        "outputId": "e7bbfd89-edec-4e0c-eba7-57d775be6988"
      },
      "source": [
        "seed = 0\n",
        "mnist_img_size = (28, 28)\n",
        "\n",
        "#The init_MLP function initializes weights given layer_widths, parent_key, scale.\n",
        "#layer_widths specifies the number of layers as well as number of neurons in each layer.\n",
        "#scale is used to scale weigths.\n",
        "def init_MLP(layer_widths, parent_key, scale=0.01):\n",
        "\n",
        "    params = []\n",
        "    keys = jax.random.split(parent_key, num=len(layer_widths)-1)\n",
        "\n",
        "    for in_width, out_width, key in zip(layer_widths[:-1], layer_widths[1:], keys):\n",
        "        weight_key, bias_key = jax.random.split(key)\n",
        "        params.append([\n",
        "                       scale*jax.random.normal(weight_key, shape=(out_width, in_width)),\n",
        "                       scale*jax.random.normal(bias_key, shape=(out_width,))\n",
        "                       ]\n",
        "        )\n",
        "\n",
        "    return params\n",
        "\n",
        "#testing if init_MLP working fine.\n",
        "key = jax.random.PRNGKey(seed)\n",
        "MLP_params = init_MLP([784, 512, 256, 10], key)\n",
        "print(jax.tree_map(lambda x: x.shape, MLP_params))"
      ],
      "execution_count": 46,
      "outputs": [
        {
          "output_type": "stream",
          "name": "stdout",
          "text": [
            "[[(512, 784), (512,)], [(256, 512), (256,)], [(10, 256), (10,)]]\n"
          ]
        }
      ]
    },
    {
      "cell_type": "markdown",
      "source": [
        "jax.nn.relu(x) :- Rectified linear unit activation function.\n",
        "\n",
        "jax.numpy.dot(a, b, *, precision=None) :- Dot product of two arrays.\n",
        "\n",
        "vmap(fun[, in_axes, out_axes, axis_name, ...]) :- Vectorizing map"
      ],
      "metadata": {
        "id": "PdLshoFs3b0M"
      }
    },
    {
      "cell_type": "code",
      "metadata": {
        "id": "U_z7eLxINv9x"
      },
      "source": [
        "def MLP_predict(params, x):\n",
        "    hidden_layers = params[:-1]\n",
        "    #Forward propagation\n",
        "    activation = x\n",
        "    for w, b in hidden_layers:\n",
        "        activation = jax.nn.relu(jnp.dot(w, activation) + b)\n",
        "\n",
        "    w_last, b_last = params[-1]\n",
        "    logits = jnp.dot(w_last, activation) + b_last\n",
        "\n",
        "    return logits - logsumexp(logits)#The returned value is basically like a softmax. Refer the comments below.\n",
        "                                     # log(exp(o1)) - log(sum(exp(o1), exp(o2), ..., exp(o10)))\n",
        "                                     # log( exp(o1) / sum(...) )\n",
        "\n",
        "\n",
        "batched_MLP_predict = vmap(MLP_predict, in_axes=(None, 0))"
      ],
      "execution_count": 47,
      "outputs": []
    },
    {
      "cell_type": "markdown",
      "source": [
        "jax.numpy.ravel(a, order='C') :- Return a contiguous flattened array.\n",
        "\n",
        "jax.numpy.stack(arrays, axis=0, out=None) :- Join a sequence of arrays along a new axis."
      ],
      "metadata": {
        "id": "TagyHkxh5ScR"
      }
    },
    {
      "cell_type": "code",
      "metadata": {
        "id": "5pPM1dZ4QyYe"
      },
      "source": [
        "def custom_transform(x):\n",
        "    return jnp.ravel(jnp.array(x, dtype=jnp.float32))\n",
        "\n",
        "def custom_collate_fn(batch):\n",
        "    transposed_data = list(zip(*batch))\n",
        "\n",
        "    labels = jnp.array(transposed_data[1])\n",
        "    imgs = jnp.stack(transposed_data[0])\n",
        "\n",
        "    return imgs, labels\n",
        "\n",
        "batch_size = 128 #batch size of each minibatch is 128. The batch size of the last minibatch is not always 128 because the dataset might not be divisible by 128\n",
        "train_dataset = MNIST(root='train_mnist', train=True, download=True, transform=custom_transform) #obtaining the train dataset\n",
        "test_dataset = MNIST(root='test_mnist', train=False, download=True, transform=custom_transform) #obtaining the test dataset\n",
        "\n",
        "train_loader = DataLoader(train_dataset, batch_size, shuffle=True, collate_fn=custom_collate_fn, drop_last=True) #loading the train data into train loader\n",
        "test_loader = DataLoader(test_dataset, batch_size, shuffle=False, collate_fn=custom_collate_fn, drop_last=True) #loading the test data into test loader\n",
        "\n",
        "# optimization - loading the whole dataset into memory\n",
        "train_images = jnp.array(train_dataset.data).reshape(len(train_dataset), -1)\n",
        "train_lbls = jnp.array(train_dataset.targets)\n",
        "\n",
        "test_images = jnp.array(test_dataset.data).reshape(len(test_dataset), -1)\n",
        "test_lbls = jnp.array(test_dataset.targets)\n"
      ],
      "execution_count": 48,
      "outputs": []
    },
    {
      "cell_type": "code",
      "source": [
        "print(train_lbls.shape) # depicts the number of training labels\n",
        "print(test_lbls.shape) # depicts the number of test labels"
      ],
      "metadata": {
        "colab": {
          "base_uri": "https://localhost:8080/"
        },
        "id": "q_dj-TeMHvBI",
        "outputId": "f6f55be5-a885-46c2-aae2-4a585a5e082a"
      },
      "execution_count": 49,
      "outputs": [
        {
          "output_type": "stream",
          "name": "stdout",
          "text": [
            "(60000,)\n",
            "(10000,)\n"
          ]
        }
      ]
    },
    {
      "cell_type": "markdown",
      "source": [
        "##### Pytrees :- a pytree is a container of leaf elements and/or more pytrees. Containers include lists, tuples, and dicts. A leaf element is anything that’s not a pytree, e.g. an array. In other words, a pytree is just a possibly-nested standard or user-registered Python container. If nested, note that the container types do not need to match. A single “leaf”, i.e. a non-container object, is also considered a pytree.\n",
        "\n",
        "pytrees was used while updating the parameters in the cell below.\n"
      ],
      "metadata": {
        "id": "qmUR0c6ZFpfg"
      }
    },
    {
      "cell_type": "code",
      "metadata": {
        "id": "YQEYcSNzVeim",
        "colab": {
          "base_uri": "https://localhost:8080/"
        },
        "outputId": "262358b5-a20c-4382-8b1c-15523a84aabe"
      },
      "source": [
        "from torch.utils import data\n",
        "num_epochs = 7  # The number of epochs we are taking are 7.\n",
        "\n",
        "def loss_fn(params, imgs, gt_lbls):\n",
        "    predictions = batched_MLP_predict(params, imgs)\n",
        "\n",
        "    return -jnp.mean(predictions * gt_lbls)\n",
        "\n",
        "#The below function accuracy computes accuracy.\n",
        "def accuracy(params, dataset_imgs, dataset_lbls):\n",
        "  pred_classes = jnp.argmax(batched_MLP_predict(params, dataset_imgs), axis=1)\n",
        "    \n",
        "  return jnp.mean(dataset_lbls == pred_classes)\n",
        "  \n",
        "\n",
        "@jit\n",
        "#The below function update() updates the parameters.\n",
        "def update(params, imgs, gt_lbls, lr=0.01):\n",
        "    loss, grads = value_and_grad(loss_fn)(params, imgs, gt_lbls) #Computing Gradients.\n",
        "\n",
        "    return loss, jax.tree_multimap(lambda p, g: p - lr*g, params, grads)\n",
        "\n",
        "# Creating a MLP\n",
        "import numpy as np\n",
        "MLP_params = init_MLP([np.prod(mnist_img_size), 512, 256, len(MNIST.classes)], key) #weigth initialization.\n",
        "loss_lst = []\n",
        "itr_lst = []\n",
        "itr = 1\n",
        "\n",
        "#training for 7 epochs\n",
        "for epoch in range(num_epochs):\n",
        "\n",
        "    for cnt, (imgs, lbls) in enumerate(train_loader):\n",
        "\n",
        "        gt_labels = jax.nn.one_hot(lbls, len(MNIST.classes))\n",
        "        \n",
        "        loss, MLP_params = update(MLP_params, imgs, gt_labels)\n",
        "        loss_lst.append(loss) #appending all the losses we obtain to the list.\n",
        "        itr_lst.append(itr) #keeping track of the number of iterations which can be used while plotting.\n",
        "        itr = itr+1\n",
        "        if cnt % 50 == 0:\n",
        "            print(loss)\n",
        "\n",
        "    print(f'Epoch {epoch}, train acc = {accuracy(MLP_params, train_images, train_lbls)} test acc = {accuracy(MLP_params, test_images, test_lbls)}')\n"
      ],
      "execution_count": 50,
      "outputs": [
        {
          "output_type": "stream",
          "name": "stdout",
          "text": [
            "0.23922558\n",
            "0.095801175\n",
            "0.05996817\n",
            "0.051604707\n",
            "0.047431525\n",
            "0.03413192\n",
            "0.03355768\n",
            "0.03721596\n",
            "0.032839555\n",
            "0.02978969\n",
            "Epoch 0, train acc = 0.9136000275611877 test acc = 0.9170999526977539\n",
            "0.025859384\n",
            "0.0257133\n",
            "0.023435328\n",
            "0.024251645\n",
            "0.03525386\n",
            "0.027787108\n",
            "0.025248438\n",
            "0.019682182\n",
            "0.026431669\n",
            "0.019541552\n",
            "Epoch 1, train acc = 0.930816650390625 test acc = 0.9314000010490417\n",
            "0.020417746\n",
            "0.024100913\n",
            "0.031246787\n",
            "0.022210117\n",
            "0.028642481\n",
            "0.021477906\n",
            "0.01295908\n",
            "0.018589342\n",
            "0.0179221\n",
            "0.010384212\n",
            "Epoch 2, train acc = 0.9464833736419678 test acc = 0.9447000026702881\n",
            "0.024123117\n",
            "0.02416863\n",
            "0.016079918\n",
            "0.014930136\n",
            "0.008141152\n",
            "0.012924257\n",
            "0.019127615\n",
            "0.014852071\n",
            "0.023567175\n",
            "0.013074306\n",
            "Epoch 3, train acc = 0.9537667036056519 test acc = 0.9501999616622925\n",
            "0.014135728\n",
            "0.011374704\n",
            "0.019640002\n",
            "0.017512143\n",
            "0.020527873\n",
            "0.022658706\n",
            "0.016445726\n",
            "0.014815795\n",
            "0.019759249\n",
            "0.011246353\n",
            "Epoch 4, train acc = 0.9609833359718323 test acc = 0.9549999833106995\n",
            "0.008794077\n",
            "0.01524237\n",
            "0.013802004\n",
            "0.019118225\n",
            "0.012855179\n",
            "0.018446045\n",
            "0.012333683\n",
            "0.012103346\n",
            "0.01049709\n",
            "0.009561404\n",
            "Epoch 5, train acc = 0.9647166728973389 test acc = 0.9596999883651733\n",
            "0.01126739\n",
            "0.016911209\n",
            "0.017627457\n",
            "0.013997409\n",
            "0.012267901\n",
            "0.011871012\n",
            "0.008567649\n",
            "0.012114226\n",
            "0.013081773\n",
            "0.014596524\n",
            "Epoch 6, train acc = 0.9693666696548462 test acc = 0.9624999761581421\n"
          ]
        }
      ]
    },
    {
      "cell_type": "code",
      "source": [
        "plt.figure(figsize=(20,10))\n",
        "plt.plot(itr_lst,loss_lst)\n",
        "plt.xlabel('iteration')\n",
        "plt.ylabel('loss')\n",
        "\n",
        "plt.title('Mini Batch Grad Descent')\n",
        "plt.show()"
      ],
      "metadata": {
        "colab": {
          "base_uri": "https://localhost:8080/",
          "height": 621
        },
        "id": "9gpxgPpFJ8wf",
        "outputId": "cf0c53e9-00ad-49ee-98a6-a7cfb9a09af9"
      },
      "execution_count": 51,
      "outputs": [
        {
          "output_type": "display_data",
          "data": {
            "text/plain": [
              "<Figure size 1440x720 with 1 Axes>"
            ],
            "image/png": "[encoded data removed]"
          },
          "metadata": {
            "needs_background": "light"
          }
        }
      ]
    },
    {
      "cell_type": "markdown",
      "source": [
        "The Noise in the above plot is because we used mini-batch gradient descent."
      ],
      "metadata": {
        "id": "1TDFLXosJVxZ"
      }
    },
    {
      "cell_type": "code",
      "source": [
        "from sklearn.metrics import classification_report\n",
        "pred_classes = jnp.argmax(batched_MLP_predict(MLP_params, test_images), axis=1)\n",
        "print(classification_report(test_lbls, pred_classes))"
      ],
      "metadata": {
        "colab": {
          "base_uri": "https://localhost:8080/"
        },
        "id": "nidgcMOjrf9c",
        "outputId": "974e325f-b21e-4c4b-af6e-34c349fa8871"
      },
      "execution_count": 52,
      "outputs": [
        {
          "output_type": "stream",
          "name": "stdout",
          "text": [
            "              precision    recall  f1-score   support\n",
            "\n",
            "           0       0.97      0.99      0.98       980\n",
            "           1       0.98      0.98      0.98      1135\n",
            "           2       0.97      0.96      0.96      1032\n",
            "           3       0.94      0.98      0.96      1010\n",
            "           4       0.97      0.96      0.96       982\n",
            "           5       0.96      0.95      0.95       892\n",
            "           6       0.96      0.97      0.97       958\n",
            "           7       0.96      0.96      0.96      1028\n",
            "           8       0.95      0.94      0.95       974\n",
            "           9       0.96      0.94      0.95      1009\n",
            "\n",
            "    accuracy                           0.96     10000\n",
            "   macro avg       0.96      0.96      0.96     10000\n",
            "weighted avg       0.96      0.96      0.96     10000\n",
            "\n"
          ]
        }
      ]
    },
    {
      "cell_type": "markdown",
      "source": [
        "ACCURACY :-\n",
        "Accuracy is the quintessential classification metric. It is pretty easy to understand. And easily suited for binary as well as a multiclass classification problem. Accuracy is the proportion of true results among the total number of cases examined.\n",
        "\n",
        "Since test accuracy is very high. We can imply that the model is Generalizing well for new examples and also that the propotion of examples that are classified correctly among the total number of cases is high. Therefore, the model is doing a good job.\n",
        "\n",
        "PRECISION :- High precision implies that high proportion of predicted Positives are truly Positive.\n",
        "\n",
        "RECALL :- High recall implies that high proportion of actual Positives are correctly classified.\n",
        "\n",
        "F1 SCORE :- The F1 score is a number between 0 and 1 and is the harmonic mean of precision and recall. This metric is Generally used when we want our model to have both good precision and recall. Simply stated the F1 score sort of maintains a balance between the precision and recall for your classifier. If the precision is low, the F1 is low and if the recall is low again the F1 score is low. High F1 score is always desirable"
      ],
      "metadata": {
        "id": "RCk88DEPnvLk"
      }
    }
  ]
}